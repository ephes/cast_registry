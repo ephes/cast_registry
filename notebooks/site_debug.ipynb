{
 "cells": [
  {
   "cell_type": "code",
   "execution_count": 1,
   "id": "adc2574f-87d4-49b0-af9a-536ff001b57f",
   "metadata": {},
   "outputs": [],
   "source": [
    "from django.contrib.sites.models import Site"
   ]
  },
  {
   "cell_type": "code",
   "execution_count": 2,
   "id": "05bf7640-d8d4-443c-8933-bfa64d5d080c",
   "metadata": {},
   "outputs": [
    {
     "data": {
      "text/plain": [
       "<QuerySet [<Site: example.com>]>"
      ]
     },
     "execution_count": 2,
     "metadata": {},
     "output_type": "execute_result"
    }
   ],
   "source": [
    "Site.objects.all()"
   ]
  },
  {
   "cell_type": "code",
   "execution_count": 3,
   "id": "bc0d63a4-72c8-4da2-a692-9d58a7543f5a",
   "metadata": {},
   "outputs": [],
   "source": [
    "localhost = Site()"
   ]
  },
  {
   "cell_type": "code",
   "execution_count": 4,
   "id": "5d3a0abc-a141-4ded-b208-e258ebe022c2",
   "metadata": {},
   "outputs": [],
   "source": [
    "localhost.domain = \"localhost\""
   ]
  },
  {
   "cell_type": "code",
   "execution_count": 5,
   "id": "4f27a421-a6cf-47ab-b483-8fdbbd9bfe2f",
   "metadata": {},
   "outputs": [],
   "source": [
    "localhost.name = \"localhost\""
   ]
  },
  {
   "cell_type": "code",
   "execution_count": 6,
   "id": "1608ab4f-d6ba-4f09-b205-69ef3c55791a",
   "metadata": {},
   "outputs": [],
   "source": [
    "localhost.save()"
   ]
  },
  {
   "cell_type": "code",
   "execution_count": null,
   "id": "2ded35a1-17ad-4806-be2b-9c9764acf445",
   "metadata": {},
   "outputs": [],
   "source": []
  }
 ],
 "metadata": {
  "kernelspec": {
   "display_name": "Django Kernel",
   "language": "python",
   "name": "django_extensions"
  },
  "language_info": {
   "codemirror_mode": {
    "name": "ipython",
    "version": 3
   },
   "file_extension": ".py",
   "mimetype": "text/x-python",
   "name": "python",
   "nbconvert_exporter": "python",
   "pygments_lexer": "ipython3",
   "version": "3.10.1"
  }
 },
 "nbformat": 4,
 "nbformat_minor": 5
}
