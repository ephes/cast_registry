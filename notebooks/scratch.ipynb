{
 "cells": [
  {
   "cell_type": "code",
   "execution_count": 2,
   "id": "86dc6510-3075-415a-aee0-33a63d63f4a5",
   "metadata": {},
   "outputs": [],
   "source": [
    "from django.urls import reverse"
   ]
  },
  {
   "cell_type": "code",
   "execution_count": 6,
   "id": "3826d5c0-ab74-4115-9611-bab1d4524a3c",
   "metadata": {},
   "outputs": [
    {
     "ename": "NoReverseMatch",
     "evalue": "Reverse for 'list_domains' with keyword arguments '{'show_progress': True}' not found. 1 pattern(s) tried: ['domain/\\\\Z']",
     "output_type": "error",
     "traceback": [
      "\u001b[0;31m---------------------------------------------------------------------------\u001b[0m",
      "\u001b[0;31mNoReverseMatch\u001b[0m                            Traceback (most recent call last)",
      "Input \u001b[0;32mIn [6]\u001b[0m, in \u001b[0;36m<module>\u001b[0;34m\u001b[0m\n\u001b[0;32m----> 1\u001b[0m \u001b[43mreverse\u001b[49m\u001b[43m(\u001b[49m\u001b[38;5;124;43m\"\u001b[39;49m\u001b[38;5;124;43mlist_domains\u001b[39;49m\u001b[38;5;124;43m\"\u001b[39;49m\u001b[43m,\u001b[49m\u001b[43m \u001b[49m\u001b[43mkwargs\u001b[49m\u001b[38;5;241;43m=\u001b[39;49m\u001b[43m{\u001b[49m\u001b[38;5;124;43m\"\u001b[39;49m\u001b[38;5;124;43mshow_progress\u001b[39;49m\u001b[38;5;124;43m\"\u001b[39;49m\u001b[43m:\u001b[49m\u001b[43m \u001b[49m\u001b[38;5;28;43;01mTrue\u001b[39;49;00m\u001b[43m}\u001b[49m\u001b[43m)\u001b[49m\n",
      "File \u001b[0;32m~/.virtualenvs/cr/lib/python3.10/site-packages/django/urls/base.py:86\u001b[0m, in \u001b[0;36mreverse\u001b[0;34m(viewname, urlconf, args, kwargs, current_app)\u001b[0m\n\u001b[1;32m     83\u001b[0m     \u001b[38;5;28;01mif\u001b[39;00m ns_pattern:\n\u001b[1;32m     84\u001b[0m         resolver \u001b[38;5;241m=\u001b[39m get_ns_resolver(ns_pattern, resolver, \u001b[38;5;28mtuple\u001b[39m(ns_converters\u001b[38;5;241m.\u001b[39mitems()))\n\u001b[0;32m---> 86\u001b[0m \u001b[38;5;28;01mreturn\u001b[39;00m \u001b[43mresolver\u001b[49m\u001b[38;5;241;43m.\u001b[39;49m\u001b[43m_reverse_with_prefix\u001b[49m\u001b[43m(\u001b[49m\u001b[43mview\u001b[49m\u001b[43m,\u001b[49m\u001b[43m \u001b[49m\u001b[43mprefix\u001b[49m\u001b[43m,\u001b[49m\u001b[43m \u001b[49m\u001b[38;5;241;43m*\u001b[39;49m\u001b[43margs\u001b[49m\u001b[43m,\u001b[49m\u001b[43m \u001b[49m\u001b[38;5;241;43m*\u001b[39;49m\u001b[38;5;241;43m*\u001b[39;49m\u001b[43mkwargs\u001b[49m\u001b[43m)\u001b[49m\n",
      "File \u001b[0;32m~/.virtualenvs/cr/lib/python3.10/site-packages/django/urls/resolvers.py:729\u001b[0m, in \u001b[0;36mURLResolver._reverse_with_prefix\u001b[0;34m(self, lookup_view, _prefix, *args, **kwargs)\u001b[0m\n\u001b[1;32m    724\u001b[0m \u001b[38;5;28;01melse\u001b[39;00m:\n\u001b[1;32m    725\u001b[0m     msg \u001b[38;5;241m=\u001b[39m (\n\u001b[1;32m    726\u001b[0m         \u001b[38;5;124m\"\u001b[39m\u001b[38;5;124mReverse for \u001b[39m\u001b[38;5;124m'\u001b[39m\u001b[38;5;132;01m%(view)s\u001b[39;00m\u001b[38;5;124m'\u001b[39m\u001b[38;5;124m not found. \u001b[39m\u001b[38;5;124m'\u001b[39m\u001b[38;5;132;01m%(view)s\u001b[39;00m\u001b[38;5;124m'\u001b[39m\u001b[38;5;124m is not \u001b[39m\u001b[38;5;124m\"\u001b[39m\n\u001b[1;32m    727\u001b[0m         \u001b[38;5;124m\"\u001b[39m\u001b[38;5;124ma valid view function or pattern name.\u001b[39m\u001b[38;5;124m\"\u001b[39m \u001b[38;5;241m%\u001b[39m {\u001b[38;5;124m'\u001b[39m\u001b[38;5;124mview\u001b[39m\u001b[38;5;124m'\u001b[39m: lookup_view_s}\n\u001b[1;32m    728\u001b[0m     )\n\u001b[0;32m--> 729\u001b[0m \u001b[38;5;28;01mraise\u001b[39;00m NoReverseMatch(msg)\n",
      "\u001b[0;31mNoReverseMatch\u001b[0m: Reverse for 'list_domains' with keyword arguments '{'show_progress': True}' not found. 1 pattern(s) tried: ['domain/\\\\Z']"
     ]
    }
   ],
   "source": [
    "reverse(\"list_domains\", kwargs={\"show_progress\": True})"
   ]
  },
  {
   "cell_type": "code",
   "execution_count": null,
   "id": "c7f9b15f-1483-411d-9ed4-3d891ee31072",
   "metadata": {},
   "outputs": [],
   "source": []
  }
 ],
 "metadata": {
  "kernelspec": {
   "display_name": "Django Kernel",
   "language": "python",
   "name": "django_extensions"
  },
  "language_info": {
   "codemirror_mode": {
    "name": "ipython",
    "version": 3
   },
   "file_extension": ".py",
   "mimetype": "text/x-python",
   "name": "python",
   "nbconvert_exporter": "python",
   "pygments_lexer": "ipython3",
   "version": "3.10.1"
  }
 },
 "nbformat": 4,
 "nbformat_minor": 5
}
