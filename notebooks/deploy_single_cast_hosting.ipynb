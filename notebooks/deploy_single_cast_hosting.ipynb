{
 "cells": [
  {
   "cell_type": "code",
   "execution_count": 1,
   "id": "9a2d230b-6f70-49b7-b273-7f0da611e3b5",
   "metadata": {},
   "outputs": [
    {
     "ename": "ModuleNotFoundError",
     "evalue": "No module named 'nb_black'",
     "output_type": "error",
     "traceback": [
      "\u001b[0;31m---------------------------------------------------------------------------\u001b[0m",
      "\u001b[0;31mModuleNotFoundError\u001b[0m                       Traceback (most recent call last)",
      "Input \u001b[0;32mIn [1]\u001b[0m, in \u001b[0;36m<cell line: 1>\u001b[0;34m()\u001b[0m\n\u001b[0;32m----> 1\u001b[0m \u001b[43mget_ipython\u001b[49m\u001b[43m(\u001b[49m\u001b[43m)\u001b[49m\u001b[38;5;241;43m.\u001b[39;49m\u001b[43mrun_line_magic\u001b[49m\u001b[43m(\u001b[49m\u001b[38;5;124;43m'\u001b[39;49m\u001b[38;5;124;43mload_ext\u001b[39;49m\u001b[38;5;124;43m'\u001b[39;49m\u001b[43m,\u001b[49m\u001b[43m \u001b[49m\u001b[38;5;124;43m'\u001b[39;49m\u001b[38;5;124;43mnb_black\u001b[39;49m\u001b[38;5;124;43m'\u001b[39;49m\u001b[43m)\u001b[49m\n",
      "File \u001b[0;32m~/.virtualenvs/cr/lib/python3.10/site-packages/IPython/core/interactiveshell.py:2294\u001b[0m, in \u001b[0;36mInteractiveShell.run_line_magic\u001b[0;34m(self, magic_name, line, _stack_depth)\u001b[0m\n\u001b[1;32m   2292\u001b[0m     kwargs[\u001b[38;5;124m'\u001b[39m\u001b[38;5;124mlocal_ns\u001b[39m\u001b[38;5;124m'\u001b[39m] \u001b[38;5;241m=\u001b[39m \u001b[38;5;28mself\u001b[39m\u001b[38;5;241m.\u001b[39mget_local_scope(stack_depth)\n\u001b[1;32m   2293\u001b[0m \u001b[38;5;28;01mwith\u001b[39;00m \u001b[38;5;28mself\u001b[39m\u001b[38;5;241m.\u001b[39mbuiltin_trap:\n\u001b[0;32m-> 2294\u001b[0m     result \u001b[38;5;241m=\u001b[39m \u001b[43mfn\u001b[49m\u001b[43m(\u001b[49m\u001b[38;5;241;43m*\u001b[39;49m\u001b[43margs\u001b[49m\u001b[43m,\u001b[49m\u001b[43m \u001b[49m\u001b[38;5;241;43m*\u001b[39;49m\u001b[38;5;241;43m*\u001b[39;49m\u001b[43mkwargs\u001b[49m\u001b[43m)\u001b[49m\n\u001b[1;32m   2295\u001b[0m \u001b[38;5;28;01mreturn\u001b[39;00m result\n",
      "File \u001b[0;32m~/.virtualenvs/cr/lib/python3.10/site-packages/IPython/core/magics/extension.py:33\u001b[0m, in \u001b[0;36mExtensionMagics.load_ext\u001b[0;34m(self, module_str)\u001b[0m\n\u001b[1;32m     31\u001b[0m \u001b[38;5;28;01mif\u001b[39;00m \u001b[38;5;129;01mnot\u001b[39;00m module_str:\n\u001b[1;32m     32\u001b[0m     \u001b[38;5;28;01mraise\u001b[39;00m UsageError(\u001b[38;5;124m'\u001b[39m\u001b[38;5;124mMissing module name.\u001b[39m\u001b[38;5;124m'\u001b[39m)\n\u001b[0;32m---> 33\u001b[0m res \u001b[38;5;241m=\u001b[39m \u001b[38;5;28;43mself\u001b[39;49m\u001b[38;5;241;43m.\u001b[39;49m\u001b[43mshell\u001b[49m\u001b[38;5;241;43m.\u001b[39;49m\u001b[43mextension_manager\u001b[49m\u001b[38;5;241;43m.\u001b[39;49m\u001b[43mload_extension\u001b[49m\u001b[43m(\u001b[49m\u001b[43mmodule_str\u001b[49m\u001b[43m)\u001b[49m\n\u001b[1;32m     35\u001b[0m \u001b[38;5;28;01mif\u001b[39;00m res \u001b[38;5;241m==\u001b[39m \u001b[38;5;124m'\u001b[39m\u001b[38;5;124malready loaded\u001b[39m\u001b[38;5;124m'\u001b[39m:\n\u001b[1;32m     36\u001b[0m     \u001b[38;5;28mprint\u001b[39m(\u001b[38;5;124m\"\u001b[39m\u001b[38;5;124mThe \u001b[39m\u001b[38;5;132;01m%s\u001b[39;00m\u001b[38;5;124m extension is already loaded. To reload it, use:\u001b[39m\u001b[38;5;124m\"\u001b[39m \u001b[38;5;241m%\u001b[39m module_str)\n",
      "File \u001b[0;32m~/.virtualenvs/cr/lib/python3.10/site-packages/IPython/core/extensions.py:76\u001b[0m, in \u001b[0;36mExtensionManager.load_extension\u001b[0;34m(self, module_str)\u001b[0m\n\u001b[1;32m     69\u001b[0m \u001b[38;5;124;03m\"\"\"Load an IPython extension by its module name.\u001b[39;00m\n\u001b[1;32m     70\u001b[0m \n\u001b[1;32m     71\u001b[0m \u001b[38;5;124;03mReturns the string \"already loaded\" if the extension is already loaded,\u001b[39;00m\n\u001b[1;32m     72\u001b[0m \u001b[38;5;124;03m\"no load function\" if the module doesn't have a load_ipython_extension\u001b[39;00m\n\u001b[1;32m     73\u001b[0m \u001b[38;5;124;03mfunction, or None if it succeeded.\u001b[39;00m\n\u001b[1;32m     74\u001b[0m \u001b[38;5;124;03m\"\"\"\u001b[39;00m\n\u001b[1;32m     75\u001b[0m \u001b[38;5;28;01mtry\u001b[39;00m:\n\u001b[0;32m---> 76\u001b[0m     \u001b[38;5;28;01mreturn\u001b[39;00m \u001b[38;5;28;43mself\u001b[39;49m\u001b[38;5;241;43m.\u001b[39;49m\u001b[43m_load_extension\u001b[49m\u001b[43m(\u001b[49m\u001b[43mmodule_str\u001b[49m\u001b[43m)\u001b[49m\n\u001b[1;32m     77\u001b[0m \u001b[38;5;28;01mexcept\u001b[39;00m \u001b[38;5;167;01mModuleNotFoundError\u001b[39;00m:\n\u001b[1;32m     78\u001b[0m     \u001b[38;5;28;01mif\u001b[39;00m module_str \u001b[38;5;129;01min\u001b[39;00m BUILTINS_EXTS:\n",
      "File \u001b[0;32m~/.virtualenvs/cr/lib/python3.10/site-packages/IPython/core/extensions.py:92\u001b[0m, in \u001b[0;36mExtensionManager._load_extension\u001b[0;34m(self, module_str)\u001b[0m\n\u001b[1;32m     90\u001b[0m \u001b[38;5;28;01mif\u001b[39;00m module_str \u001b[38;5;129;01mnot\u001b[39;00m \u001b[38;5;129;01min\u001b[39;00m sys\u001b[38;5;241m.\u001b[39mmodules:\n\u001b[1;32m     91\u001b[0m     \u001b[38;5;28;01mwith\u001b[39;00m prepended_to_syspath(\u001b[38;5;28mself\u001b[39m\u001b[38;5;241m.\u001b[39mipython_extension_dir):\n\u001b[0;32m---> 92\u001b[0m         mod \u001b[38;5;241m=\u001b[39m \u001b[43mimport_module\u001b[49m\u001b[43m(\u001b[49m\u001b[43mmodule_str\u001b[49m\u001b[43m)\u001b[49m\n\u001b[1;32m     93\u001b[0m         \u001b[38;5;28;01mif\u001b[39;00m mod\u001b[38;5;241m.\u001b[39m\u001b[38;5;18m__file__\u001b[39m\u001b[38;5;241m.\u001b[39mstartswith(\u001b[38;5;28mself\u001b[39m\u001b[38;5;241m.\u001b[39mipython_extension_dir):\n\u001b[1;32m     94\u001b[0m             \u001b[38;5;28mprint\u001b[39m((\u001b[38;5;124m\"\u001b[39m\u001b[38;5;124mLoading extensions from \u001b[39m\u001b[38;5;132;01m{dir}\u001b[39;00m\u001b[38;5;124m is deprecated. \u001b[39m\u001b[38;5;124m\"\u001b[39m\n\u001b[1;32m     95\u001b[0m                    \u001b[38;5;124m\"\u001b[39m\u001b[38;5;124mWe recommend managing extensions like any \u001b[39m\u001b[38;5;124m\"\u001b[39m\n\u001b[1;32m     96\u001b[0m                    \u001b[38;5;124m\"\u001b[39m\u001b[38;5;124mother Python packages, in site-packages.\u001b[39m\u001b[38;5;124m\"\u001b[39m)\u001b[38;5;241m.\u001b[39mformat(\n\u001b[1;32m     97\u001b[0m                   \u001b[38;5;28mdir\u001b[39m\u001b[38;5;241m=\u001b[39mcompress_user(\u001b[38;5;28mself\u001b[39m\u001b[38;5;241m.\u001b[39mipython_extension_dir)))\n",
      "File \u001b[0;32m~/.pyenv/versions/3.10.4/lib/python3.10/importlib/__init__.py:126\u001b[0m, in \u001b[0;36mimport_module\u001b[0;34m(name, package)\u001b[0m\n\u001b[1;32m    124\u001b[0m             \u001b[38;5;28;01mbreak\u001b[39;00m\n\u001b[1;32m    125\u001b[0m         level \u001b[38;5;241m+\u001b[39m\u001b[38;5;241m=\u001b[39m \u001b[38;5;241m1\u001b[39m\n\u001b[0;32m--> 126\u001b[0m \u001b[38;5;28;01mreturn\u001b[39;00m \u001b[43m_bootstrap\u001b[49m\u001b[38;5;241;43m.\u001b[39;49m\u001b[43m_gcd_import\u001b[49m\u001b[43m(\u001b[49m\u001b[43mname\u001b[49m\u001b[43m[\u001b[49m\u001b[43mlevel\u001b[49m\u001b[43m:\u001b[49m\u001b[43m]\u001b[49m\u001b[43m,\u001b[49m\u001b[43m \u001b[49m\u001b[43mpackage\u001b[49m\u001b[43m,\u001b[49m\u001b[43m \u001b[49m\u001b[43mlevel\u001b[49m\u001b[43m)\u001b[49m\n",
      "File \u001b[0;32m<frozen importlib._bootstrap>:1050\u001b[0m, in \u001b[0;36m_gcd_import\u001b[0;34m(name, package, level)\u001b[0m\n",
      "File \u001b[0;32m<frozen importlib._bootstrap>:1027\u001b[0m, in \u001b[0;36m_find_and_load\u001b[0;34m(name, import_)\u001b[0m\n",
      "File \u001b[0;32m<frozen importlib._bootstrap>:1004\u001b[0m, in \u001b[0;36m_find_and_load_unlocked\u001b[0;34m(name, import_)\u001b[0m\n",
      "\u001b[0;31mModuleNotFoundError\u001b[0m: No module named 'nb_black'"
     ]
    }
   ],
   "source": [
    "%load_ext nb_black"
   ]
  },
  {
   "cell_type": "code",
   "execution_count": 2,
   "id": "89161b31-cce6-41ec-a3e5-9575ce358a3a",
   "metadata": {},
   "outputs": [],
   "source": [
    "import json\n",
    "import httpx\n",
    "import string\n",
    "import secrets\n",
    "\n",
    "from time import sleep\n",
    "from pydantic import BaseModel\n",
    "\n",
    "from getpass import getpass"
   ]
  },
  {
   "cell_type": "code",
   "execution_count": 3,
   "id": "12a6b891-4440-4d8a-af0d-9d3c2bb94efc",
   "metadata": {},
   "outputs": [],
   "source": [
    "class DeploymentContext(BaseModel):\n",
    "    env: dict = {}"
   ]
  },
  {
   "cell_type": "code",
   "execution_count": 4,
   "id": "a3f1a7d3-6b8d-4052-b019-252f8e4f5304",
   "metadata": {},
   "outputs": [
    {
     "name": "stdin",
     "output_type": "stream",
     "text": [
      " ········\n"
     ]
    }
   ],
   "source": [
    "base_url = \"http://localhost:8001\"\n",
    "username = \"jochen\"\n",
    "password = getpass()\n",
    "service = \"single_cast_hosting\"\n",
    "\n",
    "# get access_token\n",
    "client = httpx.Client(base_url=base_url)\n",
    "r = client.post(\"/token\", data={\"username\": username, \"password\": password})\n",
    "access_token = r.json()[\"access_token\"]\n",
    "access_token_headers = {\"authorization\": f\"Bearer {access_token}\"}\n",
    "\n",
    "# get service token\n",
    "data = {\"service\": service, \"origin\": \"notebook\"}\n",
    "r = client.post(\"/service-token\", json=data, headers=access_token_headers)\n",
    "service_token = r.json()[\"service_token\"]\n",
    "headers={\"authorization\": f\"Bearer {service_token}\"}\n",
    "client.headers = headers"
   ]
  },
  {
   "cell_type": "markdown",
   "id": "9819b75d-4a21-411b-b22c-9bbe8781b8d8",
   "metadata": {},
   "source": [
    "# Deploy"
   ]
  },
  {
   "cell_type": "code",
   "execution_count": 4,
   "id": "7f7c0a80-4c09-41ae-8ca9-6e7c02bd8e70",
   "metadata": {},
   "outputs": [],
   "source": [
    "def show_details(details_url):\n",
    "    r = client.get(details_url, headers=headers)\n",
    "    rdata = r.json()\n",
    "    len_steps = len([s for s in rdata[\"steps\"] if s[\"state\"] == \"success\"])\n",
    "    started = rdata[\"started\"]\n",
    "    finished = rdata[\"finished\"]\n",
    "    print(f\"{len_steps} {started} {finished}\")"
   ]
  },
  {
   "cell_type": "markdown",
   "id": "5238b2eb-a6f8-4873-8a5c-d4530da67421",
   "metadata": {},
   "source": [
    "## Create Service"
   ]
  },
  {
   "cell_type": "code",
   "execution_count": 12,
   "id": "c5eeef65-610b-42be-8954-2a448d69f0dc",
   "metadata": {},
   "outputs": [
    {
     "data": {
      "text/plain": [
       "{'fqdn': 'happypodcast.staging.django-cast.com',\n",
       " 'site_id': 'cast_happypodcast_staging_django-cast_com',\n",
       " 'user_name': 'cast_1',\n",
       " 'database_name': 'cast_happypodcast_staging_django-cast_com',\n",
       " 'database_user': 'cast_happypodcast_staging_django-cast_com',\n",
       " 'database_password': 'ghdZcfFv9IVeVoOXPG63',\n",
       " 'secret_key': 'FfmsKCbmhZAz8to3vjafg0kdj1huEJdr',\n",
       " 'port': 10001,\n",
       " 'settings_file_name': 'cast_happypodcast_staging_django-cast_com'}"
      ]
     },
     "execution_count": 12,
     "metadata": {},
     "output_type": "execute_result"
    }
   ],
   "source": [
    "alphabet = string.ascii_letters + string.digits\n",
    "database_password = ''.join(secrets.choice(alphabet) for i in range(20))\n",
    "secret_key = \"\".join(secrets.choice(alphabet) for i in range(32))\n",
    "fqdn = \"happypodcast.staging.django-cast.com\"\n",
    "underscored_fqdn = fqdn.replace(\".\", \"_\")\n",
    "site_id = f\"cast_{underscored_fqdn}\"\n",
    "env = {\n",
    "    \"fqdn\": fqdn,\n",
    "    \"site_id\": site_id,\n",
    "    \"user_name\": \"cast_1\",\n",
    "    \"database_name\": site_id,\n",
    "    \"database_user\": site_id,\n",
    "    \"database_password\": database_password,\n",
    "    \"secret_key\": secret_key,\n",
    "    \"port\": 10001,\n",
    "    \"settings_file_name\": site_id\n",
    "}\n",
    "env"
   ]
  },
  {
   "cell_type": "markdown",
   "id": "367d49fe-1ceb-41d8-967c-dd1abaf4d63e",
   "metadata": {},
   "source": [
    "### Get Service Token"
   ]
  },
  {
   "cell_type": "code",
   "execution_count": 20,
   "id": "15ea9f97-a393-42e4-9221-be63e4c65e4c",
   "metadata": {},
   "outputs": [
    {
     "data": {
      "application/javascript": [
       "\n",
       "            setTimeout(function() {\n",
       "                var nbb_cell_id = 20;\n",
       "                var nbb_unformatted_code = \"data = {\\\"service\\\": service, \\\"origin\\\": \\\"notebook\\\"}\\nr = client.post(\\\"/service-token\\\", json=data, headers=access_token_headers)\\nservice_token = r.json()[\\\"service_token\\\"]\\nheaders = {\\\"authorization\\\": f\\\"Bearer {service_token}\\\"}\";\n",
       "                var nbb_formatted_code = \"data = {\\\"service\\\": service, \\\"origin\\\": \\\"notebook\\\"}\\nr = client.post(\\\"/service-token\\\", json=data, headers=access_token_headers)\\nservice_token = r.json()[\\\"service_token\\\"]\\nheaders = {\\\"authorization\\\": f\\\"Bearer {service_token}\\\"}\";\n",
       "                var nbb_cells = Jupyter.notebook.get_cells();\n",
       "                for (var i = 0; i < nbb_cells.length; ++i) {\n",
       "                    if (nbb_cells[i].input_prompt_number == nbb_cell_id) {\n",
       "                        if (nbb_cells[i].get_text() == nbb_unformatted_code) {\n",
       "                             nbb_cells[i].set_text(nbb_formatted_code);\n",
       "                        }\n",
       "                        break;\n",
       "                    }\n",
       "                }\n",
       "            }, 500);\n",
       "            "
      ],
      "text/plain": [
       "<IPython.core.display.Javascript object>"
      ]
     },
     "metadata": {},
     "output_type": "display_data"
    }
   ],
   "source": [
    "data = {\"service\": service, \"origin\": \"notebook\"}\n",
    "r = client.post(\"/service-token\", json=data, headers=access_token_headers)\n",
    "service_token = r.json()[\"service_token\"]\n",
    "headers = {\"authorization\": f\"Bearer {service_token}\"}"
   ]
  },
  {
   "cell_type": "code",
   "execution_count": 21,
   "id": "05e73c57-4c4d-4db1-bcdf-c2d624d39e4b",
   "metadata": {},
   "outputs": [
    {
     "name": "stdout",
     "output_type": "stream",
     "text": [
      "{'id': 160, 'service_id': 6, 'origin': 'notebook', 'user': 'jochen', 'started': '2022-01-28T06:06:36.056875', 'finished': None, 'context': {'env': {'fqdn': 'jochen.staging.django-cast.com', 'site_id': 'cast_jochen_staging_django-cast_com', 'user_name': 'cast_1', 'database_name': 'cast_jochen_staging_django-cast_com', 'database_user': 'cast_jochen_staging_django-cast_com', 'database_password': 'thQYxfqIczyj67TaUKQC', 'secret_key': 'fP1ZOi14a9rsQ5kRASnS0ZXhFycpnzMf', 'port': 10001, 'settings_file_name': 'cast_jochen_staging_django-cast_com'}}, 'type': 'deployment', 'deleted': False, 'details': 'http://localhost:8000/deployments/160'}\n"
     ]
    },
    {
     "data": {
      "application/javascript": [
       "\n",
       "            setTimeout(function() {\n",
       "                var nbb_cell_id = 21;\n",
       "                var nbb_unformatted_code = \"context = DeploymentContext(env=env)\\nr = client.post(\\\"/deployments/\\\", json=context.dict(), headers=headers)\\nrdata = r.json()\\nprint(rdata)\\ndetails_url = r.json()[\\\"details\\\"]\\n\\n# for i in range(3):\\n#     show_details(details_url)\\n#     sleep(1)\";\n",
       "                var nbb_formatted_code = \"context = DeploymentContext(env=env)\\nr = client.post(\\\"/deployments/\\\", json=context.dict(), headers=headers)\\nrdata = r.json()\\nprint(rdata)\\ndetails_url = r.json()[\\\"details\\\"]\\n\\n# for i in range(3):\\n#     show_details(details_url)\\n#     sleep(1)\";\n",
       "                var nbb_cells = Jupyter.notebook.get_cells();\n",
       "                for (var i = 0; i < nbb_cells.length; ++i) {\n",
       "                    if (nbb_cells[i].input_prompt_number == nbb_cell_id) {\n",
       "                        if (nbb_cells[i].get_text() == nbb_unformatted_code) {\n",
       "                             nbb_cells[i].set_text(nbb_formatted_code);\n",
       "                        }\n",
       "                        break;\n",
       "                    }\n",
       "                }\n",
       "            }, 500);\n",
       "            "
      ],
      "text/plain": [
       "<IPython.core.display.Javascript object>"
      ]
     },
     "metadata": {},
     "output_type": "display_data"
    }
   ],
   "source": [
    "context = DeploymentContext(env=env)\n",
    "r = client.post(\"/deployments/\", json=context.dict(), headers=headers)\n",
    "rdata = r.json()\n",
    "print(rdata)\n",
    "details_url = r.json()[\"details\"]\n",
    "\n",
    "# for i in range(3):\n",
    "#     show_details(details_url)\n",
    "#     sleep(1)"
   ]
  },
  {
   "cell_type": "markdown",
   "id": "89d59508-03b5-48b7-a4da-0e2ba434065f",
   "metadata": {},
   "source": [
    "## Remove Service"
   ]
  },
  {
   "cell_type": "markdown",
   "id": "44a54016-ce6c-49be-8e31-110e42a9946b",
   "metadata": {},
   "source": [
    "### Get Service Token"
   ]
  },
  {
   "cell_type": "code",
   "execution_count": 13,
   "id": "a80ef9f1-0626-4ac9-9668-459862f0bec6",
   "metadata": {},
   "outputs": [],
   "source": [
    "data = {\"service\": \"remove_single_cast_hosting\", \"origin\": \"notebook\"}\n",
    "r = client.post(\"/service-token\", json=data, headers=access_token_headers)\n",
    "service_token = r.json()[\"service_token\"]\n",
    "headers={\"authorization\": f\"Bearer {service_token}\"}"
   ]
  },
  {
   "cell_type": "code",
   "execution_count": 14,
   "id": "7091906a-5aeb-4435-8aa8-dd418710ad1c",
   "metadata": {},
   "outputs": [
    {
     "name": "stdout",
     "output_type": "stream",
     "text": [
      "{'id': 192, 'service_id': 7, 'origin': 'notebook', 'user': 'jochen', 'started': '2022-01-30T16:03:02.297392', 'finished': None, 'context': {'env': {'fqdn': 'happypodcast.staging.django-cast.com', 'site_id': 'cast_happypodcast_staging_django-cast_com', 'user_name': 'cast_1', 'database_name': 'cast_happypodcast_staging_django-cast_com', 'database_user': 'cast_happypodcast_staging_django-cast_com', 'database_password': 'ghdZcfFv9IVeVoOXPG63', 'secret_key': 'FfmsKCbmhZAz8to3vjafg0kdj1huEJdr', 'port': 10001, 'settings_file_name': 'cast_happypodcast_staging_django-cast_com'}}, 'type': 'deployment', 'deleted': False, 'details': 'http://localhost:8001/deployments/192'}\n"
     ]
    }
   ],
   "source": [
    "context = DeploymentContext(env=env)\n",
    "r = client.post(\"/deployments/\", json=context.dict(), headers=headers)\n",
    "rdata = r.json()\n",
    "print(rdata)\n",
    "details_url = r.json()[\"details\"]"
   ]
  },
  {
   "cell_type": "code",
   "execution_count": 35,
   "id": "5c99fb9e-3c19-4ff3-a491-d808cf42feba",
   "metadata": {},
   "outputs": [
    {
     "data": {
      "text/plain": [
       "{'fqdn': 'foobar.staging.wersdoerfer.de',\n",
       " 'database_name': 'cast_foobar.staging.wersdoerfer.de',\n",
       " 'database_user': 'cast_foobar.staging.wersdoerfer.de',\n",
       " 'database_password': '6It0n1QGoMM4GtAkGmRr',\n",
       " 'secret_key': '2oCTxJIo9YBpWquiVG5Ks3cJHcIPKZUB',\n",
       " 'port': 10001,\n",
       " 'settings_file_name': 'foobar_staging_wersdoerfer_de'}"
      ]
     },
     "execution_count": 35,
     "metadata": {},
     "output_type": "execute_result"
    },
    {
     "data": {
      "application/javascript": [
       "\n",
       "            setTimeout(function() {\n",
       "                var nbb_cell_id = 35;\n",
       "                var nbb_unformatted_code = \"context.env\";\n",
       "                var nbb_formatted_code = \"context.env\";\n",
       "                var nbb_cells = Jupyter.notebook.get_cells();\n",
       "                for (var i = 0; i < nbb_cells.length; ++i) {\n",
       "                    if (nbb_cells[i].input_prompt_number == nbb_cell_id) {\n",
       "                        if (nbb_cells[i].get_text() == nbb_unformatted_code) {\n",
       "                             nbb_cells[i].set_text(nbb_formatted_code);\n",
       "                        }\n",
       "                        break;\n",
       "                    }\n",
       "                }\n",
       "            }, 500);\n",
       "            "
      ],
      "text/plain": [
       "<IPython.core.display.Javascript object>"
      ]
     },
     "metadata": {},
     "output_type": "display_data"
    }
   ],
   "source": [
    "context.env"
   ]
  },
  {
   "cell_type": "markdown",
   "id": "ef3afed4-d9d6-49e3-a28a-60062b15f22e",
   "metadata": {},
   "source": [
    "# Stuff"
   ]
  },
  {
   "cell_type": "code",
   "execution_count": 31,
   "id": "e4de2375-a0dc-479c-b304-45b9dfc031f8",
   "metadata": {},
   "outputs": [
    {
     "data": {
      "application/javascript": [
       "\n",
       "            setTimeout(function() {\n",
       "                var nbb_cell_id = 31;\n",
       "                var nbb_unformatted_code = \"foo = {\\\"bar\\\": \\\"baz\\\"}\";\n",
       "                var nbb_formatted_code = \"foo = {\\\"bar\\\": \\\"baz\\\"}\";\n",
       "                var nbb_cells = Jupyter.notebook.get_cells();\n",
       "                for (var i = 0; i < nbb_cells.length; ++i) {\n",
       "                    if (nbb_cells[i].input_prompt_number == nbb_cell_id) {\n",
       "                        if (nbb_cells[i].get_text() == nbb_unformatted_code) {\n",
       "                             nbb_cells[i].set_text(nbb_formatted_code);\n",
       "                        }\n",
       "                        break;\n",
       "                    }\n",
       "                }\n",
       "            }, 500);\n",
       "            "
      ],
      "text/plain": [
       "<IPython.core.display.Javascript object>"
      ]
     },
     "metadata": {},
     "output_type": "display_data"
    }
   ],
   "source": [
    "foo = {\"bar\": \"baz\"}"
   ]
  },
  {
   "cell_type": "code",
   "execution_count": 32,
   "id": "1a637757-54a5-4e5c-84bc-fa5080f1407b",
   "metadata": {},
   "outputs": [
    {
     "data": {
      "text/plain": [
       "{'bar': 'baz', 'blub': 'bla'}"
      ]
     },
     "execution_count": 32,
     "metadata": {},
     "output_type": "execute_result"
    },
    {
     "data": {
      "application/javascript": [
       "\n",
       "            setTimeout(function() {\n",
       "                var nbb_cell_id = 32;\n",
       "                var nbb_unformatted_code = \"dict(foo, blub=\\\"bla\\\")\";\n",
       "                var nbb_formatted_code = \"dict(foo, blub=\\\"bla\\\")\";\n",
       "                var nbb_cells = Jupyter.notebook.get_cells();\n",
       "                for (var i = 0; i < nbb_cells.length; ++i) {\n",
       "                    if (nbb_cells[i].input_prompt_number == nbb_cell_id) {\n",
       "                        if (nbb_cells[i].get_text() == nbb_unformatted_code) {\n",
       "                             nbb_cells[i].set_text(nbb_formatted_code);\n",
       "                        }\n",
       "                        break;\n",
       "                    }\n",
       "                }\n",
       "            }, 500);\n",
       "            "
      ],
      "text/plain": [
       "<IPython.core.display.Javascript object>"
      ]
     },
     "metadata": {},
     "output_type": "display_data"
    }
   ],
   "source": [
    "dict(foo, blub=\"bla\")"
   ]
  },
  {
   "cell_type": "code",
   "execution_count": 33,
   "id": "ec798487-7305-42b0-8976-34ac08e1730d",
   "metadata": {},
   "outputs": [
    {
     "data": {
      "text/plain": [
       "{'bar': 'blub'}"
      ]
     },
     "execution_count": 33,
     "metadata": {},
     "output_type": "execute_result"
    },
    {
     "data": {
      "application/javascript": [
       "\n",
       "            setTimeout(function() {\n",
       "                var nbb_cell_id = 33;\n",
       "                var nbb_unformatted_code = \"dict(foo, bar=\\\"blub\\\")\";\n",
       "                var nbb_formatted_code = \"dict(foo, bar=\\\"blub\\\")\";\n",
       "                var nbb_cells = Jupyter.notebook.get_cells();\n",
       "                for (var i = 0; i < nbb_cells.length; ++i) {\n",
       "                    if (nbb_cells[i].input_prompt_number == nbb_cell_id) {\n",
       "                        if (nbb_cells[i].get_text() == nbb_unformatted_code) {\n",
       "                             nbb_cells[i].set_text(nbb_formatted_code);\n",
       "                        }\n",
       "                        break;\n",
       "                    }\n",
       "                }\n",
       "            }, 500);\n",
       "            "
      ],
      "text/plain": [
       "<IPython.core.display.Javascript object>"
      ]
     },
     "metadata": {},
     "output_type": "display_data"
    }
   ],
   "source": [
    "dict(foo, bar=\"blub\")"
   ]
  },
  {
   "cell_type": "code",
   "execution_count": null,
   "id": "9ebb21fd-6c2b-436b-b3d7-d1d5c15d8352",
   "metadata": {},
   "outputs": [],
   "source": []
  }
 ],
 "metadata": {
  "kernelspec": {
   "display_name": "Python 3 (ipykernel)",
   "language": "python",
   "name": "python3"
  },
  "language_info": {
   "codemirror_mode": {
    "name": "ipython",
    "version": 3
   },
   "file_extension": ".py",
   "mimetype": "text/x-python",
   "name": "python",
   "nbconvert_exporter": "python",
   "pygments_lexer": "ipython3",
   "version": "3.10.4"
  }
 },
 "nbformat": 4,
 "nbformat_minor": 5
}
