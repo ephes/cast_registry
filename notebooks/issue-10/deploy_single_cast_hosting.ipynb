{
 "cells": [
  {
   "cell_type": "code",
   "execution_count": 1,
   "id": "9a2d230b-6f70-49b7-b273-7f0da611e3b5",
   "metadata": {},
   "outputs": [],
   "source": [
    "%load_ext lab_black"
   ]
  },
  {
   "cell_type": "code",
   "execution_count": 2,
   "id": "89161b31-cce6-41ec-a3e5-9575ce358a3a",
   "metadata": {},
   "outputs": [],
   "source": [
    "import json\n",
    "import httpx\n",
    "import string\n",
    "import secrets\n",
    "\n",
    "from time import sleep\n",
    "from pydantic import BaseModel\n",
    "\n",
    "from getpass import getpass"
   ]
  },
  {
   "cell_type": "code",
   "execution_count": 3,
   "id": "12a6b891-4440-4d8a-af0d-9d3c2bb94efc",
   "metadata": {},
   "outputs": [],
   "source": [
    "class DeploymentContext(BaseModel):\n",
    "    env: dict = {}"
   ]
  },
  {
   "cell_type": "code",
   "execution_count": 4,
   "id": "a3f1a7d3-6b8d-4052-b019-252f8e4f5304",
   "metadata": {},
   "outputs": [
    {
     "name": "stdin",
     "output_type": "stream",
     "text": [
      " ····················\n"
     ]
    }
   ],
   "source": [
    "# base_url = \"http://localhost:8001\"\n",
    "base_url = \"https://deploy.staging.wersdoerfer.de\"\n",
    "username = \"jochen\"\n",
    "password = getpass()\n",
    "service = \"single_cast_hosting\"\n",
    "\n",
    "# get access_token\n",
    "client = httpx.Client(base_url=base_url)\n",
    "r = client.post(\"/token\", data={\"username\": username, \"password\": password})\n",
    "access_token = r.json()[\"access_token\"]\n",
    "access_token_headers = {\"authorization\": f\"Bearer {access_token}\"}\n",
    "\n",
    "# get service token\n",
    "data = {\"service\": service, \"origin\": \"notebook\"}\n",
    "r = client.post(\"/service-token\", json=data, headers=access_token_headers)\n",
    "service_token = r.json()[\"service_token\"]\n",
    "headers = {\"authorization\": f\"Bearer {service_token}\"}\n",
    "client.headers = headers"
   ]
  },
  {
   "cell_type": "markdown",
   "id": "9819b75d-4a21-411b-b22c-9bbe8781b8d8",
   "metadata": {},
   "source": [
    "# Deploy"
   ]
  },
  {
   "cell_type": "code",
   "execution_count": 5,
   "id": "7f7c0a80-4c09-41ae-8ca9-6e7c02bd8e70",
   "metadata": {},
   "outputs": [],
   "source": [
    "def show_details(details_url):\n",
    "    r = client.get(details_url, headers=headers)\n",
    "    rdata = r.json()\n",
    "    len_steps = len([s for s in rdata[\"steps\"] if s[\"state\"] == \"success\"])\n",
    "    started = rdata[\"started\"]\n",
    "    finished = rdata[\"finished\"]\n",
    "    print(f\"{len_steps} {started} {finished}\")"
   ]
  },
  {
   "cell_type": "markdown",
   "id": "5238b2eb-a6f8-4873-8a5c-d4530da67421",
   "metadata": {},
   "source": [
    "## Create Service"
   ]
  },
  {
   "cell_type": "code",
   "execution_count": 6,
   "id": "c5eeef65-610b-42be-8954-2a448d69f0dc",
   "metadata": {},
   "outputs": [
    {
     "data": {
      "text/plain": [
       "{'fqdn': 'happypodcast.staging.django-cast.com',\n",
       " 'site_id': 'cast_happypodcast_staging_django-cast_com',\n",
       " 'user_name': 'cast_1',\n",
       " 'database_name': 'cast_happypodcast_staging_django-cast_com',\n",
       " 'database_user': 'cast_happypodcast_staging_django-cast_com',\n",
       " 'database_password': 'vlmiT4oZo12CeVYoykxV',\n",
       " 'secret_key': 'IWWR6DC4iTW4vHyucrfZpeplUzOlcBZ1',\n",
       " 'port': 10001,\n",
       " 'settings_file_name': 'cast_happypodcast_staging_django-cast_com'}"
      ]
     },
     "execution_count": 6,
     "metadata": {},
     "output_type": "execute_result"
    }
   ],
   "source": [
    "alphabet = string.ascii_letters + string.digits\n",
    "database_password = \"\".join(secrets.choice(alphabet) for i in range(20))\n",
    "secret_key = \"\".join(secrets.choice(alphabet) for i in range(32))\n",
    "fqdn = \"happypodcast.staging.django-cast.com\"\n",
    "underscored_fqdn = fqdn.replace(\".\", \"_\")\n",
    "site_id = f\"cast_{underscored_fqdn}\"\n",
    "env = {\n",
    "    \"fqdn\": fqdn,\n",
    "    \"site_id\": site_id,\n",
    "    \"user_name\": \"cast_1\",\n",
    "    \"database_name\": site_id,\n",
    "    \"database_user\": site_id,\n",
    "    \"database_password\": database_password,\n",
    "    \"secret_key\": secret_key,\n",
    "    \"port\": 10001,\n",
    "    \"settings_file_name\": site_id,\n",
    "}\n",
    "env"
   ]
  },
  {
   "cell_type": "markdown",
   "id": "367d49fe-1ceb-41d8-967c-dd1abaf4d63e",
   "metadata": {},
   "source": [
    "### Get Service Token"
   ]
  },
  {
   "cell_type": "code",
   "execution_count": 7,
   "id": "15ea9f97-a393-42e4-9221-be63e4c65e4c",
   "metadata": {},
   "outputs": [],
   "source": [
    "data = {\"service\": service, \"origin\": \"notebook\"}\n",
    "r = client.post(\"/service-token\", json=data, headers=access_token_headers)\n",
    "service_token = r.json()[\"service_token\"]\n",
    "headers = {\"authorization\": f\"Bearer {service_token}\"}"
   ]
  },
  {
   "cell_type": "code",
   "execution_count": 14,
   "id": "05e73c57-4c4d-4db1-bcdf-c2d624d39e4b",
   "metadata": {},
   "outputs": [
    {
     "name": "stdout",
     "output_type": "stream",
     "text": [
      "{'id': 223, 'service_id': 66, 'origin': 'notebook', 'user': 'jochen', 'started': '2022-07-02T07:33:52.320450+00:00', 'finished': None, 'context': {'env': {'fqdn': 'happypodcast.staging.django-cast.com', 'site_id': 'cast_happypodcast_staging_django-cast_com', 'user_name': 'cast_1', 'database_name': 'cast_happypodcast_staging_django-cast_com', 'database_user': 'cast_happypodcast_staging_django-cast_com', 'database_password': 'vlmiT4oZo12CeVYoykxV', 'secret_key': 'IWWR6DC4iTW4vHyucrfZpeplUzOlcBZ1', 'port': 10001, 'settings_file_name': 'cast_happypodcast_staging_django-cast_com'}}, 'details': 'https://deploy.staging.wersdoerfer.de/deployments/223'}\n"
     ]
    }
   ],
   "source": [
    "context = DeploymentContext(env=env)\n",
    "r = client.post(\"/deployments/\", json=context.dict(), headers=headers)\n",
    "rdata = r.json()\n",
    "print(rdata)\n",
    "details_url = r.json()[\"details\"]\n",
    "\n",
    "# for i in range(3):\n",
    "#     show_details(details_url)\n",
    "#     sleep(1)"
   ]
  },
  {
   "cell_type": "code",
   "execution_count": 12,
   "id": "da2a314e-d970-479e-9787-2b98351e4e0b",
   "metadata": {},
   "outputs": [
    {
     "data": {
      "text/plain": [
       "'{\"fqdn\": \"happypodcast.staging.django-cast.com\", \"site_id\": \"cast_happypodcast_staging_django-cast_com\", \"user_name\": \"cast_1\", \"database_name\": \"cast_happypodcast_staging_django-cast_com\", \"database_user\": \"cast_happypodcast_staging_django-cast_com\", \"database_password\": \"vlmiT4oZo12CeVYoykxV\", \"secret_key\": \"IWWR6DC4iTW4vHyucrfZpeplUzOlcBZ1\", \"port\": 10001, \"settings_file_name\": \"cast_happypodcast_staging_django-cast_com\"}'"
      ]
     },
     "execution_count": 12,
     "metadata": {},
     "output_type": "execute_result"
    }
   ],
   "source": [
    "json.dumps(context.env)"
   ]
  },
  {
   "cell_type": "markdown",
   "id": "89d59508-03b5-48b7-a4da-0e2ba434065f",
   "metadata": {},
   "source": [
    "## Remove Service"
   ]
  },
  {
   "cell_type": "markdown",
   "id": "44a54016-ce6c-49be-8e31-110e42a9946b",
   "metadata": {},
   "source": [
    "### Get Service Token"
   ]
  },
  {
   "cell_type": "code",
   "execution_count": 19,
   "id": "a80ef9f1-0626-4ac9-9668-459862f0bec6",
   "metadata": {},
   "outputs": [],
   "source": [
    "data = {\"service\": \"single_cast_hosting_remove\", \"origin\": \"notebook\"}\n",
    "r = client.post(\"/service-token\", json=data, headers=access_token_headers)\n",
    "service_token = r.json()[\"service_token\"]\n",
    "headers = {\"authorization\": f\"Bearer {service_token}\"}"
   ]
  },
  {
   "cell_type": "code",
   "execution_count": 20,
   "id": "7091906a-5aeb-4435-8aa8-dd418710ad1c",
   "metadata": {},
   "outputs": [
    {
     "name": "stdout",
     "output_type": "stream",
     "text": [
      "{'id': 224, 'service_id': 67, 'origin': 'notebook', 'user': 'jochen', 'started': '2022-07-02T07:36:21.794363+00:00', 'finished': None, 'context': {'env': {'fqdn': 'happypodcast.staging.django-cast.com', 'site_id': 'cast_happypodcast_staging_django-cast_com', 'user_name': 'cast_1', 'database_name': 'cast_happypodcast_staging_django-cast_com', 'database_user': 'cast_happypodcast_staging_django-cast_com', 'database_password': 'vlmiT4oZo12CeVYoykxV', 'secret_key': 'IWWR6DC4iTW4vHyucrfZpeplUzOlcBZ1', 'port': 10001, 'settings_file_name': 'cast_happypodcast_staging_django-cast_com'}}, 'details': 'https://deploy.staging.wersdoerfer.de/deployments/224'}\n"
     ]
    }
   ],
   "source": [
    "context = DeploymentContext(env=env)\n",
    "r = client.post(\"/deployments/\", json=context.dict(), headers=headers)\n",
    "rdata = r.json()\n",
    "print(rdata)\n",
    "details_url = r.json()[\"details\"]"
   ]
  },
  {
   "cell_type": "code",
   "execution_count": 21,
   "id": "5c99fb9e-3c19-4ff3-a491-d808cf42feba",
   "metadata": {},
   "outputs": [
    {
     "data": {
      "text/plain": [
       "{'fqdn': 'happypodcast.staging.django-cast.com',\n",
       " 'site_id': 'cast_happypodcast_staging_django-cast_com',\n",
       " 'user_name': 'cast_1',\n",
       " 'database_name': 'cast_happypodcast_staging_django-cast_com',\n",
       " 'database_user': 'cast_happypodcast_staging_django-cast_com',\n",
       " 'database_password': 'vlmiT4oZo12CeVYoykxV',\n",
       " 'secret_key': 'IWWR6DC4iTW4vHyucrfZpeplUzOlcBZ1',\n",
       " 'port': 10001,\n",
       " 'settings_file_name': 'cast_happypodcast_staging_django-cast_com'}"
      ]
     },
     "execution_count": 21,
     "metadata": {},
     "output_type": "execute_result"
    }
   ],
   "source": [
    "context.env"
   ]
  }
 ],
 "metadata": {
  "kernelspec": {
   "display_name": "Python 3 (ipykernel)",
   "language": "python",
   "name": "python3"
  },
  "language_info": {
   "codemirror_mode": {
    "name": "ipython",
    "version": 3
   },
   "file_extension": ".py",
   "mimetype": "text/x-python",
   "name": "python",
   "nbconvert_exporter": "python",
   "pygments_lexer": "ipython3",
   "version": "3.10.5"
  }
 },
 "nbformat": 4,
 "nbformat_minor": 5
}
