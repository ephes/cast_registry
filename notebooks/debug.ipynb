{
 "cells": [
  {
   "cell_type": "code",
   "execution_count": 1,
   "id": "43f1ce9b-d78f-4722-8d96-79a87f1011ce",
   "metadata": {},
   "outputs": [
    {
     "data": {
      "text/plain": [
       "'/accounts/login/'"
      ]
     },
     "execution_count": 1,
     "metadata": {},
     "output_type": "execute_result"
    }
   ],
   "source": [
    "reverse(\"account_login\")"
   ]
  },
  {
   "cell_type": "code",
   "execution_count": 2,
   "id": "0f05a237-a039-40e3-a9f2-4df2ea2ec952",
   "metadata": {},
   "outputs": [
    {
     "data": {
      "text/plain": [
       "<QuerySet []>"
      ]
     },
     "execution_count": 2,
     "metadata": {},
     "output_type": "execute_result"
    }
   ],
   "source": [
    "User.objects.all()"
   ]
  },
  {
   "cell_type": "code",
   "execution_count": 3,
   "id": "1a89b890-70b4-4cd3-8e3c-7ab9e712de4e",
   "metadata": {},
   "outputs": [
    {
     "data": {
      "text/plain": [
       "(0, {})"
      ]
     },
     "execution_count": 3,
     "metadata": {},
     "output_type": "execute_result"
    }
   ],
   "source": [
    "User.objects.filter(username=\"foobar\").delete()"
   ]
  },
  {
   "cell_type": "code",
   "execution_count": null,
   "id": "1269c6f3-f33b-48f8-9887-0d5408ab3b5b",
   "metadata": {},
   "outputs": [],
   "source": []
  }
 ],
 "metadata": {
  "kernelspec": {
   "display_name": "Django Kernel",
   "language": "python",
   "name": "django_extensions"
  },
  "language_info": {
   "codemirror_mode": {
    "name": "ipython",
    "version": 3
   },
   "file_extension": ".py",
   "mimetype": "text/x-python",
   "name": "python",
   "nbconvert_exporter": "python",
   "pygments_lexer": "ipython3",
   "version": "3.10.1"
  }
 },
 "nbformat": 4,
 "nbformat_minor": 5
}
