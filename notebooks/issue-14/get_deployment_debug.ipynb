{
 "cells": [
  {
   "cell_type": "code",
   "execution_count": 2,
   "id": "179b7279-a110-4f6c-bcb2-abc2b9095a38",
   "metadata": {},
   "outputs": [],
   "source": [
    "%load_ext lab_black"
   ]
  },
  {
   "cell_type": "code",
   "execution_count": 3,
   "id": "2f45c018-7d2d-4f91-b72b-d7e0f1ff3358",
   "metadata": {},
   "outputs": [],
   "source": [
    "from time import sleep\n",
    "\n",
    "import httpx\n",
    "\n",
    "from django.conf import settings\n",
    "from django.utils import timezone"
   ]
  },
  {
   "cell_type": "code",
   "execution_count": 9,
   "id": "6f23c38f-f02b-4dd0-bae4-11fac1d469eb",
   "metadata": {},
   "outputs": [
    {
     "name": "stdout",
     "output_type": "stream",
     "text": [
      "0 404\n",
      "1 404\n",
      "2 404\n",
      "3 200\n",
      "4 200\n",
      "5 200\n",
      "6 200\n",
      "7 200\n",
      "8 200\n",
      "9 200\n",
      "10 200\n",
      "11 200\n",
      "12 200\n",
      "13 200\n",
      "14 200\n",
      "15 200\n",
      "16 200\n",
      "17 200\n",
      "18 200\n",
      "19 200\n",
      "20 200\n",
      "21 200\n",
      "22 200\n",
      "23 200\n",
      "24 200\n",
      "25 200\n",
      "26 200\n",
      "27 200\n",
      "28 200\n"
     ]
    }
   ],
   "source": [
    "results = []\n",
    "domain = Domain.objects.first()\n",
    "deployment_id = 10\n",
    "service_token = domain.service_tokens[\"deploy\"]\n",
    "# service_token = domain.service_tokens[\"remove\"]\n",
    "headers = {\"authorization\": f\"Bearer {service_token}\"}\n",
    "number = 0\n",
    "\n",
    "\n",
    "try:\n",
    "    while True:\n",
    "        with httpx.Client(base_url=settings.DEPLOY_BASE_URL, headers=headers) as client:\n",
    "            r = client.get(f\"deployments/{deployment_id}\")\n",
    "        print(number, r.status_code)\n",
    "        results.append(\n",
    "            {\n",
    "                \"status\": r.status_code,\n",
    "                \"data\": r.json(),\n",
    "                \"timestamp\": timezone.now(),\n",
    "                \"index\": number,\n",
    "            }\n",
    "        )\n",
    "        number += 1\n",
    "        sleep(1)\n",
    "except KeyboardInterrupt:\n",
    "    pass"
   ]
  },
  {
   "cell_type": "code",
   "execution_count": 6,
   "id": "9c41318f-91ba-4a8b-8219-16bb6851357e",
   "metadata": {},
   "outputs": [
    {
     "name": "stdout",
     "output_type": "stream",
     "text": [
      "404 {'detail': 'Deployment not found'}\n",
      "404 {'detail': 'Deployment not found'}\n",
      "404 {'detail': 'Deployment not found'}\n"
     ]
    }
   ],
   "source": [
    "for result in results:\n",
    "    status = result[\"status\"]\n",
    "    if status != 200:\n",
    "        print(status, result[\"data\"])"
   ]
  },
  {
   "cell_type": "code",
   "execution_count": null,
   "id": "73409985-bc0c-4934-bd55-ade7f6a15844",
   "metadata": {},
   "outputs": [],
   "source": []
  }
 ],
 "metadata": {
  "kernelspec": {
   "display_name": "Django Kernel",
   "language": "python",
   "name": "django_extensions"
  },
  "language_info": {
   "codemirror_mode": {
    "name": "ipython",
    "version": 3
   },
   "file_extension": ".py",
   "mimetype": "text/x-python",
   "name": "python",
   "nbconvert_exporter": "python",
   "pygments_lexer": "ipython3",
   "version": "3.10.5"
  }
 },
 "nbformat": 4,
 "nbformat_minor": 5
}
